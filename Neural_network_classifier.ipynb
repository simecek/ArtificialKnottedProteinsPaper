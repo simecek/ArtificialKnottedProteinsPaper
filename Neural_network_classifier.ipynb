{
 "cells": [
  {
   "cell_type": "code",
   "execution_count": 1,
   "id": "87c808fc-0bd2-46a5-9484-1dd91ad1dcfa",
   "metadata": {},
   "outputs": [],
   "source": [
    "from datasets import load_dataset\n",
    "import pandas as pd\n",
    "from fastai.tabular.all import *\n",
    "from fastai.metrics import F1Score, CohenKappa\n",
    "from sklearn.metrics import accuracy_score, confusion_matrix\n",
    "\n",
    "dt = load_dataset(\"./Diffusion-all_knots\")"
   ]
  },
  {
   "cell_type": "code",
   "execution_count": 2,
   "id": "f43b04d1-314f-453a-8526-30986bb71a8b",
   "metadata": {},
   "outputs": [
    {
     "data": {
      "text/plain": [
       "array(['Evodiff', 'RFdiffusion', 'Real'], dtype=object)"
      ]
     },
     "execution_count": 2,
     "metadata": {},
     "output_type": "execute_result"
    }
   ],
   "source": [
    "df = dt['train'].to_pandas()\n",
    "df.Tool.unique()"
   ]
  },
  {
   "cell_type": "code",
   "execution_count": 4,
   "id": "48daf13a-6a22-46d2-9656-ed3aaea47f9e",
   "metadata": {},
   "outputs": [],
   "source": [
    "RFdiffusion = df[df.Tool == 'RFdiffusion'].drop(columns=[\"Sequence\", \"Tool\", \"ID\"]).copy()\n",
    "Evodiff = df[df.Tool == 'Evodiff'].drop(columns=[\"Sequence\", \"Tool\", \"ID\"]).copy()\n",
    "Real = df[df.Tool == 'Real'].drop(columns=[\"Sequence\", \"Tool\", \"ID\"]).copy()\n",
    "\n",
    "training_df = RFdiffusion"
   ]
  },
  {
   "cell_type": "code",
   "execution_count": 6,
   "id": "019a6d9f-a1e5-48e2-a852-176806e1b73d",
   "metadata": {},
   "outputs": [],
   "source": [
    "# Preparing data loader and defining the model\n",
    "\n",
    "splits = RandomSplitter(valid_pct=0.2, seed=42)(range_of(dff))\n",
    "procs = [Normalize]\n",
    "cont, cat = cont_cat_split(dff, max_card=9000, dep_var='Label')\n",
    "to = TabularPandas(df, procs=procs, cat_names=cat, cont_names=cont, \n",
    "                   y_names='Label', splits=splits, y_block=CategoryBlock)\n",
    "\n",
    "dls = to.dataloaders(bs=64)\n",
    "\n",
    "learn = tabular_learner(dls, layers=[500,200], metrics=[accuracy, F1Score(), CohenKappa()])\n"
   ]
  },
  {
   "cell_type": "code",
   "execution_count": 12,
   "id": "7e014acf-8555-4ae8-b663-f55a87f41e2f",
   "metadata": {},
   "outputs": [
    {
     "data": {
      "text/html": [
       "\n",
       "<style>\n",
       "    /* Turns off some styling */\n",
       "    progress {\n",
       "        /* gets rid of default border in Firefox and Opera. */\n",
       "        border: none;\n",
       "        /* Needs to be in here for Safari polyfill so background images work as expected. */\n",
       "        background-size: auto;\n",
       "    }\n",
       "    progress:not([value]), progress:not([value])::-webkit-progress-bar {\n",
       "        background: repeating-linear-gradient(45deg, #7e7e7e, #7e7e7e 10px, #5c5c5c 10px, #5c5c5c 20px);\n",
       "    }\n",
       "    .progress-bar-interrupted, .progress-bar-interrupted::-webkit-progress-bar {\n",
       "        background: #F44336;\n",
       "    }\n",
       "</style>\n"
      ],
      "text/plain": [
       "<IPython.core.display.HTML object>"
      ]
     },
     "metadata": {},
     "output_type": "display_data"
    },
    {
     "data": {
      "text/html": [
       "<table border=\"1\" class=\"dataframe\">\n",
       "  <thead>\n",
       "    <tr style=\"text-align: left;\">\n",
       "      <th>epoch</th>\n",
       "      <th>train_loss</th>\n",
       "      <th>valid_loss</th>\n",
       "      <th>accuracy</th>\n",
       "      <th>f1_score</th>\n",
       "      <th>cohen_kappa_score</th>\n",
       "      <th>time</th>\n",
       "    </tr>\n",
       "  </thead>\n",
       "  <tbody>\n",
       "    <tr>\n",
       "      <td>0</td>\n",
       "      <td>0.631369</td>\n",
       "      <td>0.572039</td>\n",
       "      <td>0.776000</td>\n",
       "      <td>0.508772</td>\n",
       "      <td>0.366129</td>\n",
       "      <td>00:00</td>\n",
       "    </tr>\n",
       "    <tr>\n",
       "      <td>1</td>\n",
       "      <td>0.532721</td>\n",
       "      <td>0.519826</td>\n",
       "      <td>0.796000</td>\n",
       "      <td>0.514286</td>\n",
       "      <td>0.385409</td>\n",
       "      <td>00:00</td>\n",
       "    </tr>\n",
       "    <tr>\n",
       "      <td>2</td>\n",
       "      <td>0.449569</td>\n",
       "      <td>0.510141</td>\n",
       "      <td>0.809000</td>\n",
       "      <td>0.521303</td>\n",
       "      <td>0.402026</td>\n",
       "      <td>00:00</td>\n",
       "    </tr>\n",
       "  </tbody>\n",
       "</table>"
      ],
      "text/plain": [
       "<IPython.core.display.HTML object>"
      ]
     },
     "metadata": {},
     "output_type": "display_data"
    }
   ],
   "source": [
    "# Training the model\n",
    "\n",
    "learn.fit_one_cycle(3, lr_max=0.0005)"
   ]
  },
  {
   "cell_type": "code",
   "execution_count": 7,
   "id": "6281221f-e310-40cb-a148-d6d24c5bc265",
   "metadata": {},
   "outputs": [
    {
     "data": {
      "text/html": [
       "\n",
       "<style>\n",
       "    /* Turns off some styling */\n",
       "    progress {\n",
       "        /* gets rid of default border in Firefox and Opera. */\n",
       "        border: none;\n",
       "        /* Needs to be in here for Safari polyfill so background images work as expected. */\n",
       "        background-size: auto;\n",
       "    }\n",
       "    progress:not([value]), progress:not([value])::-webkit-progress-bar {\n",
       "        background: repeating-linear-gradient(45deg, #7e7e7e, #7e7e7e 10px, #5c5c5c 10px, #5c5c5c 20px);\n",
       "    }\n",
       "    .progress-bar-interrupted, .progress-bar-interrupted::-webkit-progress-bar {\n",
       "        background: #F44336;\n",
       "    }\n",
       "</style>\n"
      ],
      "text/plain": [
       "<IPython.core.display.HTML object>"
      ]
     },
     "metadata": {},
     "output_type": "display_data"
    },
    {
     "data": {
      "text/html": [],
      "text/plain": [
       "<IPython.core.display.HTML object>"
      ]
     },
     "metadata": {},
     "output_type": "display_data"
    },
    {
     "data": {
      "text/plain": [
       "(tensor([[0.4329, 0.5671],\n",
       "         [0.5434, 0.4566],\n",
       "         [0.4983, 0.5017],\n",
       "         ...,\n",
       "         [0.5364, 0.4636],\n",
       "         [0.4775, 0.5225],\n",
       "         [0.4827, 0.5173]]),\n",
       " tensor([[0],\n",
       "         [0],\n",
       "         [0],\n",
       "         ...,\n",
       "         [0],\n",
       "         [0],\n",
       "         [1]], dtype=torch.int8))"
      ]
     },
     "execution_count": 7,
     "metadata": {},
     "output_type": "execute_result"
    }
   ],
   "source": [
    "# test data\n",
    "test_dl = learn.dls.test_dl(Real)\n",
    "learn.get_preds(dl = test_dl)"
   ]
  },
  {
   "cell_type": "code",
   "execution_count": 15,
   "id": "55596e2c-4e0e-4c59-88df-0a96c225cef8",
   "metadata": {},
   "outputs": [
    {
     "data": {
      "text/html": [
       "\n",
       "<style>\n",
       "    /* Turns off some styling */\n",
       "    progress {\n",
       "        /* gets rid of default border in Firefox and Opera. */\n",
       "        border: none;\n",
       "        /* Needs to be in here for Safari polyfill so background images work as expected. */\n",
       "        background-size: auto;\n",
       "    }\n",
       "    progress:not([value]), progress:not([value])::-webkit-progress-bar {\n",
       "        background: repeating-linear-gradient(45deg, #7e7e7e, #7e7e7e 10px, #5c5c5c 10px, #5c5c5c 20px);\n",
       "    }\n",
       "    .progress-bar-interrupted, .progress-bar-interrupted::-webkit-progress-bar {\n",
       "        background: #F44336;\n",
       "    }\n",
       "</style>\n"
      ],
      "text/plain": [
       "<IPython.core.display.HTML object>"
      ]
     },
     "metadata": {},
     "output_type": "display_data"
    },
    {
     "data": {
      "text/html": [],
      "text/plain": [
       "<IPython.core.display.HTML object>"
      ]
     },
     "metadata": {},
     "output_type": "display_data"
    },
    {
     "name": "stdout",
     "output_type": "stream",
     "text": [
      "Accuracy: 0.7668\n",
      "Confusion Matrix:\n",
      "[[3732  268]\n",
      " [ 898  102]]\n"
     ]
    }
   ],
   "source": [
    "# metrics on test data (real proteins)\n",
    "\n",
    "preds, targets = learn.get_preds(dl=test_dl)\n",
    "\n",
    "class_preds = preds.argmax(dim=1)\n",
    "accuracy = accuracy_score(targets, class_preds)\n",
    "print(f\"Accuracy: {accuracy}\")\n",
    "\n",
    "conf_matrix = confusion_matrix(targets, class_preds)\n",
    "print(\"Confusion Matrix:\")\n",
    "print(conf_matrix)"
   ]
  },
  {
   "cell_type": "code",
   "execution_count": 16,
   "id": "ed082716-6583-400c-b4d1-c6afb106e09a",
   "metadata": {},
   "outputs": [
    {
     "data": {
      "text/plain": [
       "1.6056894108119053"
      ]
     },
     "execution_count": 16,
     "metadata": {},
     "output_type": "execute_result"
    }
   ],
   "source": [
    "3732 * 102 / 264 / 898"
   ]
  },
  {
   "cell_type": "code",
   "execution_count": 13,
   "id": "67368c1c-5d36-4377-acd7-684a09a6fc4f",
   "metadata": {},
   "outputs": [
    {
     "data": {
      "text/html": [
       "\n",
       "<style>\n",
       "    /* Turns off some styling */\n",
       "    progress {\n",
       "        /* gets rid of default border in Firefox and Opera. */\n",
       "        border: none;\n",
       "        /* Needs to be in here for Safari polyfill so background images work as expected. */\n",
       "        background-size: auto;\n",
       "    }\n",
       "    progress:not([value]), progress:not([value])::-webkit-progress-bar {\n",
       "        background: repeating-linear-gradient(45deg, #7e7e7e, #7e7e7e 10px, #5c5c5c 10px, #5c5c5c 20px);\n",
       "    }\n",
       "    .progress-bar-interrupted, .progress-bar-interrupted::-webkit-progress-bar {\n",
       "        background: #F44336;\n",
       "    }\n",
       "</style>\n"
      ],
      "text/plain": [
       "<IPython.core.display.HTML object>"
      ]
     },
     "metadata": {},
     "output_type": "display_data"
    },
    {
     "data": {
      "text/html": [],
      "text/plain": [
       "<IPython.core.display.HTML object>"
      ]
     },
     "metadata": {},
     "output_type": "display_data"
    },
    {
     "data": {
      "text/html": [
       "\n",
       "<style>\n",
       "    /* Turns off some styling */\n",
       "    progress {\n",
       "        /* gets rid of default border in Firefox and Opera. */\n",
       "        border: none;\n",
       "        /* Needs to be in here for Safari polyfill so background images work as expected. */\n",
       "        background-size: auto;\n",
       "    }\n",
       "    progress:not([value]), progress:not([value])::-webkit-progress-bar {\n",
       "        background: repeating-linear-gradient(45deg, #7e7e7e, #7e7e7e 10px, #5c5c5c 10px, #5c5c5c 20px);\n",
       "    }\n",
       "    .progress-bar-interrupted, .progress-bar-interrupted::-webkit-progress-bar {\n",
       "        background: #F44336;\n",
       "    }\n",
       "</style>\n"
      ],
      "text/plain": [
       "<IPython.core.display.HTML object>"
      ]
     },
     "metadata": {},
     "output_type": "display_data"
    },
    {
     "data": {
      "text/html": [],
      "text/plain": [
       "<IPython.core.display.HTML object>"
      ]
     },
     "metadata": {},
     "output_type": "display_data"
    },
    {
     "data": {
      "image/png": "[encoded data removed]",
      "text/plain": [
       "<Figure size 640x480 with 1 Axes>"
      ]
     },
     "metadata": {},
     "output_type": "display_data"
    }
   ],
   "source": [
    "# metrics on validation dataset\n",
    "\n",
    "interp = ClassificationInterpretation.from_learner(learn)\n",
    "\n",
    "# Plot the confusion matrix\n",
    "interp.plot_confusion_matrix()"
   ]
  },
  {
   "cell_type": "code",
   "execution_count": 14,
   "id": "35ef4577-efbc-4f0e-9288-ef3d6f0f34e7",
   "metadata": {},
   "outputs": [
    {
     "data": {
      "text/plain": [
       "8.04476629361422"
      ]
     },
     "execution_count": 14,
     "metadata": {},
     "output_type": "execute_result"
    }
   ],
   "source": [
    "705 * 104 / 93 /98"
   ]
  }
 ],
 "metadata": {
  "kernelspec": {
   "display_name": "Python [conda env:evodiff]",
   "language": "python",
   "name": "conda-env-evodiff-py"
  },
  "language_info": {
   "codemirror_mode": {
    "name": "ipython",
    "version": 3
   },
   "file_extension": ".py",
   "mimetype": "text/x-python",
   "name": "python",
   "nbconvert_exporter": "python",
   "pygments_lexer": "ipython3",
   "version": "3.11.0"
  }
 },
 "nbformat": 4,
 "nbformat_minor": 5
}

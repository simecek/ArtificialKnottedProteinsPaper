{
 "cells": [
  {
   "cell_type": "code",
   "execution_count": 2,
   "id": "dfb3eb1b-71d5-47f2-82fd-78e903f623ef",
   "metadata": {},
   "outputs": [],
   "source": [
    "from requests import get, post\n",
    "from time import sleep\n",
    "import pandas as pd\n",
    "import numpy as np"
   ]
  },
  {
   "cell_type": "code",
   "execution_count": 3,
   "id": "98f3c3cc-c842-4eb7-ba9a-e88ccc6f19ab",
   "metadata": {},
   "outputs": [],
   "source": [
    "df = pd.read_csv(\"data/Artificial_proteins.csv\")[['ID']]\n",
    "df2 = df.copy()\n",
    "df2['AF_match'] = ''\n",
    "df2['AF_match_score'] = 0\n",
    "df2['PDB_match'] = ''\n",
    "df2['PDB_match_score'] = 0\n",
    "df2['ticket'] = ''"
   ]
  },
  {
   "cell_type": "code",
   "execution_count": null,
   "id": "f39d2a42-b875-489e-86d2-e3af1e9c1bbc",
   "metadata": {},
   "outputs": [],
   "source": [
    "timer = 0\n",
    "\n",
    "for index in range(len(df)):\n",
    "    \n",
    "    if df2.at[index, 'ticket'] != '':\n",
    "        continue\n",
    "        \n",
    "    if timer > 20:\n",
    "        if timer%5 == 1:\n",
    "            sleep(200)\n",
    "\n",
    "        if timer%30 == 0:\n",
    "            sleep(300)\n",
    "\n",
    "        if timer%50 == 0:\n",
    "            sleep(400)\n",
    "\n",
    "        if timer%100 == 1:\n",
    "            sleep(500)\n",
    "        \n",
    "    print(index)\n",
    "    pdb = open('Structures/' + df.at[index, 'ID'] + '.pdb', 'r').read()\n",
    "    \n",
    "    # open request\n",
    "    ticket = post('https://search.foldseek.com/api/ticket', {\n",
    "            'q' : pdb,\n",
    "            'database[]' : [\"afdb50\", \"pdb100\"],\n",
    "            'mode' : 'tmalign',\n",
    "        }).json()\n",
    "    \n",
    "    while ticket[\"status\"] == 'RATELIMIT':\n",
    "        sleep(50)\n",
    "        print(\"Rate limit\")\n",
    "        ticket = post('https://search.foldseek.com/api/ticket', {\n",
    "            'q' : pdb,\n",
    "            'database[]' : [\"afdb50\", \"pdb100\"],\n",
    "            'mode' : 'tmalign',\n",
    "        }).json()\n",
    "    df2.at[index, 'ticket'] = ticket['id']\n",
    "    timer += 1\n",
    "    sleep(3)"
   ]
  },
  {
   "cell_type": "code",
   "execution_count": 76,
   "id": "1778d1b9-4c92-4f45-919f-c070a167e11c",
   "metadata": {},
   "outputs": [],
   "source": [
    "df2.to_csv(\"data/Artificial_proteins_Foldseek.csv\", index=False)"
   ]
  },
  {
   "cell_type": "code",
   "execution_count": null,
   "id": "972bec84-efd7-46f1-b656-939b2adfa0c3",
   "metadata": {},
   "outputs": [],
   "source": [
    "for index in range(len(df2)):\n",
    "    \n",
    "    if df2.at[index, 'ticket'] == '':\n",
    "        continue\n",
    "        \n",
    "    if df2.at[index, 'AF_match'] != '':\n",
    "        continue\n",
    "        \n",
    "    print(index)\n",
    "    \n",
    "    # wait for response\n",
    "    repeat = True\n",
    "    sleep_time = 5\n",
    "    while repeat:\n",
    "        \n",
    "        try:\n",
    "            status = get('https://search.foldseek.com/api/ticket/' + df2.at[index, 'ticket']).json()\n",
    "        except:\n",
    "            sleep(sleep_time)\n",
    "            sleep_time += 1\n",
    "            continue\n",
    "        # print(status)\n",
    "        if status['status'] == \"ERROR\":\n",
    "            # handle error\n",
    "            print(\"ERROR\")\n",
    "            break\n",
    "\n",
    "        # wait a short time between poll requests\n",
    "        sleep(1)\n",
    "        repeat = status['status'] != \"COMPLETE\"\n",
    "    \n",
    "    if status['status'] == \"ERROR\":\n",
    "        df2.at[index, 'AF_match'] = ''\n",
    "        continue\n",
    "    \n",
    "    # get all hits\n",
    "    result = get('https://search.foldseek.com/api/result/' + df2.at[index, 'ticket'] + '/0').json()\n",
    "    if result and result['results']:\n",
    "        if result['results'][1] and result['results'][1]['alignments']:\n",
    "            df2.at[index, 'PDB_match'] = f\"{result['results'][1]['alignments'][0]['target']}\"\n",
    "            df2.at[index, 'PDB_match_score'] = result['results'][1]['alignments'][0]['eval']\n",
    "        \n",
    "        if result['results'][0] and result['results'][0]['alignments']:\n",
    "            df2.at[index, 'AF_match'] = f\"{result['results'][0]['alignments'][0]['target']}\"\n",
    "            df2.at[index, 'AF_match_score'] = result['results'][0]['alignments'][0]['eval']\n",
    "    else:\n",
    "        df2.at[index, 'AF_match'] = \"\""
   ]
  },
  {
   "cell_type": "code",
   "execution_count": 78,
   "id": "869c224a-05d0-45bb-9884-4b6529e5e708",
   "metadata": {},
   "outputs": [],
   "source": [
    "df2.to_csv(\"data/Artificial_proteins_Foldseek.csv\", index=False)"
   ]
  }
 ],
 "metadata": {
  "kernelspec": {
   "display_name": "Python [conda env:tmp]",
   "language": "python",
   "name": "conda-env-tmp-py"
  },
  "language_info": {
   "codemirror_mode": {
    "name": "ipython",
    "version": 3
   },
   "file_extension": ".py",
   "mimetype": "text/x-python",
   "name": "python",
   "nbconvert_exporter": "python",
   "pygments_lexer": "ipython3",
   "version": "3.8.15"
  }
 },
 "nbformat": 4,
 "nbformat_minor": 5
}

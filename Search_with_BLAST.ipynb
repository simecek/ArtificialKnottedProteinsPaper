{
 "cells": [
  {
   "cell_type": "code",
   "execution_count": 1,
   "id": "887b88bb-dafc-4729-8d24-0613f4984c39",
   "metadata": {},
   "outputs": [],
   "source": [
    "from Bio.Blast import NCBIWWW\n",
    "from Bio.Blast import NCBIXML\n",
    "from Bio import SeqIO\n",
    "import pandas as pd\n",
    "import numpy as np"
   ]
  },
  {
   "cell_type": "code",
   "execution_count": 15,
   "id": "77b78edf-c861-402b-8d44-9b55afc94c41",
   "metadata": {},
   "outputs": [],
   "source": [
    "df = pd.read_csv('data/Artificial_proteins.csv')[['ID', 'Sequence', 'Tool']]\n",
    "df = df[df['Tool'] != 'Real'].reset_index(drop=True)"
   ]
  },
  {
   "cell_type": "code",
   "execution_count": 16,
   "id": "2156c718-95d6-4008-8fd0-48a59ffbaf19",
   "metadata": {},
   "outputs": [],
   "source": [
    "CHUNKS = 1000"
   ]
  },
  {
   "cell_type": "markdown",
   "id": "5b333682-8fea-4481-ad79-839976c5581a",
   "metadata": {},
   "source": [
    "### Split analysis into smaller chunks"
   ]
  },
  {
   "cell_type": "code",
   "execution_count": 17,
   "id": "0257df0a-2310-4e42-8068-d9c07e531b4c",
   "metadata": {},
   "outputs": [],
   "source": [
    "seqs = df.apply(lambda row: f'>{str(row[\"ID\"])}\\n{row[\"Sequence\"]}', axis=1)"
   ]
  },
  {
   "cell_type": "code",
   "execution_count": 18,
   "id": "ba754354-55b7-4a41-8eee-f7a9cdb10591",
   "metadata": {},
   "outputs": [],
   "source": [
    "seqs_chunks = np.array_split(seqs, CHUNKS)"
   ]
  },
  {
   "cell_type": "markdown",
   "id": "c4947490-cff9-4cfa-a222-7078586d9aeb",
   "metadata": {},
   "source": [
    "### Run BLAST search for chunks"
   ]
  },
  {
   "cell_type": "code",
   "execution_count": null,
   "id": "34f22f37-3d08-4654-8e63-96b1c0b3eaf6",
   "metadata": {},
   "outputs": [],
   "source": [
    "for i in range(CHUNKS): #TODO\n",
    "    fasta = '\\n'.join(seqs_chunks[i])\n",
    "    print(f\"Analyzing {i}\")\n",
    "    result_handle = NCBIWWW.qblast(\"blastp\", \"nr\", fasta)\n",
    "    blast_results = result_handle.read()\n",
    "    with open(f'Blast/results_{i}.xml', 'w') as save_file: \n",
    "        save_file.write(blast_results)"
   ]
  },
  {
   "cell_type": "markdown",
   "id": "264e27b6-46e1-471e-baf9-d4d832a299ec",
   "metadata": {},
   "source": [
    "### Process chunk results"
   ]
  },
  {
   "cell_type": "code",
   "execution_count": null,
   "id": "967de53c-8199-4b94-a31f-3173aeaee3cd",
   "metadata": {},
   "outputs": [],
   "source": [
    "blast_file = open(\"data/Artificial_proteins_Blast.csv\", 'w')\n",
    "blast_file.write('ID,Match_title,Match_e-value,Match_sequence\\n')"
   ]
  },
  {
   "cell_type": "code",
   "execution_count": null,
   "id": "a83e0f6a-e3b9-4396-adb4-eb795e13ed35",
   "metadata": {},
   "outputs": [],
   "source": [
    "for i in range(CHUNKS):\n",
    "    print(i)\n",
    "    for record in NCBIXML.parse(open(f'Blast/results_{i}.xml')): \n",
    "        blast_file.write(record.query + ',')\n",
    "        if record.alignments:\n",
    "            blast_file.write(f\"{record.alignments[0].title},{record.alignments[0].hsps[0].expect},{record.alignments[0].hsps[0].sbjct}\\n\")\n",
    "        else:\n",
    "            blast_file.write(',,\\n')"
   ]
  },
  {
   "cell_type": "code",
   "execution_count": 27,
   "id": "25734aec-d511-42b0-a81c-45e902997515",
   "metadata": {},
   "outputs": [],
   "source": [
    "blast_file.close()"
   ]
  },
  {
   "cell_type": "markdown",
   "id": "68318d2b-0fe3-4284-b942-370c356794ef",
   "metadata": {},
   "source": [
    "-----------------------------------"
   ]
  }
 ],
 "metadata": {
  "kernelspec": {
   "display_name": "Python [conda env:tmp]",
   "language": "python",
   "name": "conda-env-tmp-py"
  },
  "language_info": {
   "codemirror_mode": {
    "name": "ipython",
    "version": 3
   },
   "file_extension": ".py",
   "mimetype": "text/x-python",
   "name": "python",
   "nbconvert_exporter": "python",
   "pygments_lexer": "ipython3",
   "version": "3.8.15"
  }
 },
 "nbformat": 4,
 "nbformat_minor": 5
}
